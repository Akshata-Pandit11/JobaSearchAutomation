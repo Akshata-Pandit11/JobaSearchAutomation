{
 "cells": [
  {
   "cell_type": "code",
   "execution_count": 1,
   "id": "951d12e8-e075-47c5-8ab2-2c00425e31f5",
   "metadata": {},
   "outputs": [
    {
     "name": "stdout",
     "output_type": "stream",
     "text": [
      "Defaulting to user installation because normal site-packages is not writeable\n",
      "Requirement already satisfied: requests in c:\\users\\akshata pandit\\appdata\\roaming\\python\\python311\\site-packages (2.32.3)\n",
      "Requirement already satisfied: beautifulsoup4 in c:\\programdata\\anaconda3\\lib\\site-packages (4.12.2)\n",
      "Requirement already satisfied: charset-normalizer<4,>=2 in c:\\users\\akshata pandit\\appdata\\roaming\\python\\python311\\site-packages (from requests) (3.4.2)\n",
      "Requirement already satisfied: idna<4,>=2.5 in c:\\users\\akshata pandit\\appdata\\roaming\\python\\python311\\site-packages (from requests) (3.10)\n",
      "Requirement already satisfied: urllib3<3,>=1.21.1 in c:\\users\\akshata pandit\\appdata\\roaming\\python\\python311\\site-packages (from requests) (2.4.0)\n",
      "Requirement already satisfied: certifi>=2017.4.17 in c:\\users\\akshata pandit\\appdata\\roaming\\python\\python311\\site-packages (from requests) (2025.4.26)\n",
      "Requirement already satisfied: soupsieve>1.2 in c:\\programdata\\anaconda3\\lib\\site-packages (from beautifulsoup4) (2.5)\n",
      "Note: you may need to restart the kernel to use updated packages.\n"
     ]
    }
   ],
   "source": [
    "pip install requests beautifulsoup4"
   ]
  },
  {
   "cell_type": "code",
   "execution_count": 26,
   "id": "aa781db8-d593-434e-8127-fb7723b613a1",
   "metadata": {},
   "outputs": [
    {
     "name": "stdout",
     "output_type": "stream",
     "text": [
      "Defaulting to user installation because normal site-packages is not writeable\n",
      "Requirement already satisfied: requests in c:\\users\\akshata pandit\\appdata\\roaming\\python\\python311\\site-packages (2.32.3)\n",
      "Requirement already satisfied: beautifulsoup4 in c:\\programdata\\anaconda3\\lib\\site-packages (4.12.2)\n",
      "Requirement already satisfied: python-dotenv in c:\\programdata\\anaconda3\\lib\\site-packages (0.21.0)\n",
      "Collecting schedule\n",
      "  Downloading schedule-1.2.2-py3-none-any.whl.metadata (3.8 kB)\n",
      "Requirement already satisfied: charset-normalizer<4,>=2 in c:\\users\\akshata pandit\\appdata\\roaming\\python\\python311\\site-packages (from requests) (3.4.2)\n",
      "Requirement already satisfied: idna<4,>=2.5 in c:\\users\\akshata pandit\\appdata\\roaming\\python\\python311\\site-packages (from requests) (3.10)\n",
      "Requirement already satisfied: urllib3<3,>=1.21.1 in c:\\users\\akshata pandit\\appdata\\roaming\\python\\python311\\site-packages (from requests) (2.4.0)\n",
      "Requirement already satisfied: certifi>=2017.4.17 in c:\\users\\akshata pandit\\appdata\\roaming\\python\\python311\\site-packages (from requests) (2025.4.26)\n",
      "Requirement already satisfied: soupsieve>1.2 in c:\\programdata\\anaconda3\\lib\\site-packages (from beautifulsoup4) (2.5)\n",
      "Downloading schedule-1.2.2-py3-none-any.whl (12 kB)\n",
      "Installing collected packages: schedule\n",
      "Successfully installed schedule-1.2.2\n",
      "Note: you may need to restart the kernel to use updated packages.\n"
     ]
    }
   ],
   "source": [
    "pip install requests beautifulsoup4 python-dotenv schedule"
   ]
  },
  {
   "cell_type": "code",
   "execution_count": 5,
   "id": "c0e29007-7635-4396-b957-6c747a10fc10",
   "metadata": {},
   "outputs": [
    {
     "name": "stdout",
     "output_type": "stream",
     "text": [
      "Defaulting to user installation because normal site-packages is not writeable\n",
      "Requirement already satisfied: python-dotenv in c:\\programdata\\anaconda3\\lib\\site-packages (0.21.0)\n"
     ]
    }
   ],
   "source": [
    "!pip install python-dotenv"
   ]
  },
  {
   "cell_type": "code",
   "execution_count": 29,
   "id": "5f2ca5fd-a1e1-4e3d-82b8-b57d411cb3e0",
   "metadata": {},
   "outputs": [],
   "source": [
    "import os\n",
    "import json\n",
    "import logging\n",
    "import requests\n",
    "from bs4 import BeautifulSoup\n",
    "from dotenv import load_dotenv\n",
    "from datetime import datetime\n",
    "from email.mime.text import MIMEText\n",
    "from email.mime.multipart import MIMEMultipart\n",
    "import smtplib\n",
    "import smtplib\n",
    "from email.mime.multipart import MIMEMultipart\n",
    "from email.mime.text import MIMEText"
   ]
  },
  {
   "cell_type": "code",
   "execution_count": 43,
   "id": "4537fa66-605e-4a1d-8513-76e220f59f41",
   "metadata": {},
   "outputs": [
    {
     "name": "stderr",
     "output_type": "stream",
     "text": [
      "'rm' is not recognized as an internal or external command,\n",
      "operable program or batch file.\n"
     ]
    }
   ],
   "source": [
    "!rm -f .env\n",
    "!echo \"EMAIL_SENDER=sendermail@gmail.com\" >> .env\n",
    "!echo \"EMAIL_PASSWORD=11_Akshata_2\" >> .env\n",
    "!echo \"EMAIL_RECEIVER=receiveremail@gmail.com\" >> .env\n"
   ]
  },
  {
   "cell_type": "code",
   "execution_count": 44,
   "id": "c41413aa-8bfb-43dc-b1e8-4269d6f30a2b",
   "metadata": {},
   "outputs": [],
   "source": [
    "with open(\"env.txt\", \"w\") as f:\n",
    "    f.write(\"\"\"MAIL_SENDER:sendermail@gmail.com ,\n",
    "    EMAIL_PASSWORD:11_Akshata_2,\n",
    "    EMAIL_RECEIVER:receiveremail@gmail.com,\n",
    "    Loaded domain: UI/UX design\n",
    "\"\"\"\n",
    "           )"
   ]
  },
  {
   "cell_type": "code",
   "execution_count": 45,
   "id": "f0c583d2-e592-4e4d-a75c-a5d61c34e645",
   "metadata": {},
   "outputs": [
    {
     "name": "stderr",
     "output_type": "stream",
     "text": [
      "Python-dotenv could not parse statement starting at line 1\n",
      "Python-dotenv could not parse statement starting at line 4\n"
     ]
    },
    {
     "name": "stdout",
     "output_type": "stream",
     "text": [
      "Sender: akshatapandit11@gmail.com\n",
      "Receiver: pandithakshata@gmail.com\n"
     ]
    }
   ],
   "source": [
    "load_dotenv(dotenv_path=\"env.txt\")\n",
    "\n",
    "EMAIL_SENDER = os.getenv(\"EMAIL_SENDER\")\n",
    "EMAIL_PASSWORD = os.getenv(\"EMAIL_PASSWORD\")\n",
    "EMAIL_RECEIVER = os.getenv(\"EMAIL_RECEIVER\")\n",
    "PREFERRED_DOMAIN = os.getenv(\"PREFERRED_DOMAIN\")\n",
    "print(\"Sender:\", EMAIL_SENDER)\n",
    "print(\"Receiver:\", EMAIL_RECEIVER)\n"
   ]
  },
  {
   "cell_type": "code",
   "execution_count": 46,
   "id": "3f537b22-d6be-4194-818f-f4c717362c6c",
   "metadata": {},
   "outputs": [],
   "source": [
    "def fetch_jobs(query,limit=10):\n",
    "    search_query=f\"{query} site: indeed.com\"\n",
    "    url=f\"https://www.google.com/search?q={search_query.replace(' ', '+')}\"\n",
    "    headers={\"User-Agent\": \"Mozilla/5.0\"}\n",
    "\n",
    "    response=requests.get(url,headers=headers)\n",
    "    soup=BeautifulSoup(response.text,\"html.parser\")\n",
    "\n",
    "    jobs=[]\n",
    "    seen=set()\n",
    "    for link_tag in soup.find_all(\"a\"):\n",
    "        href=link_tag.get(\"href\",\"\")\n",
    "        if \"url?q\" in href and \"indeed.com\" in href:\n",
    "            link=href.split(\"url?q=\")[1].split(\"&\")[0]\n",
    "            title=link_tag.next.strip()\n",
    "            if link not in seen:\n",
    "                jobs.append((title,link))\n",
    "                seen.add(link)\n",
    "            if len(jobs)>=limit:\n",
    "                break\n",
    "    return jobs"
   ]
  },
  {
   "cell_type": "code",
   "execution_count": 47,
   "id": "d88dd238-df58-41f1-b844-1ae9845fdf43",
   "metadata": {},
   "outputs": [],
   "source": [
    "def fetch_jobs_from_duckduckgo(query, limit=10):\n",
    "    search_query = f\"{query} site:indeed.com\"\n",
    "    url = f\"https://html.duckduckgo.com/html/?q={search_query.replace(' ', '+')}\"\n",
    "\n",
    "    headers = {\n",
    "        \"User-Agent\": \"Mozilla/5.0\"\n",
    "    }\n",
    "\n",
    "    response = requests.get(url, headers=headers)\n",
    "    soup = BeautifulSoup(response.text, \"html.parser\")\n",
    "\n",
    "    results = []\n",
    "    for a in soup.select(\"a.result__a\")[:limit]:\n",
    "        title = a.get_text(strip=True)\n",
    "        href = a[\"href\"]\n",
    "        results.append((title, href))\n",
    "\n",
    "    return results\n"
   ]
  },
  {
   "cell_type": "code",
   "execution_count": 48,
   "id": "098afd44-61b5-417e-95b9-bd4e6e400d52",
   "metadata": {},
   "outputs": [],
   "source": [
    "def send_job_email(job_links):\n",
    "    if not job_links:\n",
    "        print(\"No job links to send.\")\n",
    "        return\n",
    "\n",
    "    msg = MIMEMultipart(\"alternative\")\n",
    "    msg[\"Subject\"] = f\"🚀 {PREFERRED_DOMAIN} Jobs - Daily Update\"\n",
    "    msg[\"From\"] = EMAIL_SENDER\n",
    "    msg[\"To\"] = EMAIL_RECEIVER\n",
    "\n",
    "    # Format job links into HTML\n",
    "    html = \"<h3>Latest Job Listings</h3><ul>\"\n",
    "    for title, link in job_links:\n",
    "        html += f'<li><a href=\"{link}\" target=\"_blank\">{title}</a></li>'\n",
    "    html += \"</ul>\"\n",
    "\n",
    "    part = MIMEText(html, \"html\")\n",
    "    msg.attach(part)\n",
    "\n",
    "    try:\n",
    "        server = smtplib.SMTP(\"smtp.gmail.com\", 587)\n",
    "        server.starttls()\n",
    "        server.login(EMAIL_SENDER, EMAIL_PASSWORD)\n",
    "        server.sendmail(EMAIL_SENDER, EMAIL_RECEIVER, msg.as_string())\n",
    "        server.quit()\n",
    "        print(\" Email sent successfully!\")\n",
    "    except Exception as e:\n",
    "        print(\" Error sending email:\", e)\n"
   ]
  },
  {
   "cell_type": "code",
   "execution_count": 40,
   "id": "bf7abcbd-2ee2-439c-83ae-337c8beaa791",
   "metadata": {},
   "outputs": [
    {
     "name": "stdout",
     "output_type": "stream",
     "text": [
      "No job links to send.\n"
     ]
    }
   ],
   "source": [
    "jobs = fetch_jobs(PREFERRED_DOMAIN)\n",
    "send_job_email(jobs)"
   ]
  },
  {
   "cell_type": "code",
   "execution_count": 42,
   "id": "de5b55c3-cb47-4228-a3d2-2a8dc0393aaa",
   "metadata": {},
   "outputs": [
    {
     "name": "stdout",
     "output_type": "stream",
     "text": [
      " Error sending email: (535, b'5.7.8 Username and Password not accepted. For more information, go to\\n5.7.8  https://support.google.com/mail/?p=BadCredentials d9443c01a7336-240293ab50dsm74395155ad.154 - gsmtp')\n"
     ]
    }
   ],
   "source": [
    "jobs=fetch_jobs_from_duckduckgo(PREFERRED_DOMAIN)\n",
    "send_job_email(jobs)"
   ]
  },
  {
   "cell_type": "code",
   "execution_count": null,
   "id": "203569a6-5909-4933-9b3f-cfe172a17e92",
   "metadata": {},
   "outputs": [],
   "source": []
  }
 ],
 "metadata": {
  "kernelspec": {
   "display_name": "Python 3 (ipykernel)",
   "language": "python",
   "name": "python3"
  },
  "language_info": {
   "codemirror_mode": {
    "name": "ipython",
    "version": 3
   },
   "file_extension": ".py",
   "mimetype": "text/x-python",
   "name": "python",
   "nbconvert_exporter": "python",
   "pygments_lexer": "ipython3",
   "version": "3.11.7"
  }
 },
 "nbformat": 4,
 "nbformat_minor": 5
}
